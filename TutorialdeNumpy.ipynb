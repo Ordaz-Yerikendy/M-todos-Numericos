{
  "nbformat": 4,
  "nbformat_minor": 0,
  "metadata": {
    "colab": {
      "provenance": [],
      "authorship_tag": "ABX9TyO+qTbBmXjEicyvQ8Tk8pdG",
      "include_colab_link": true
    },
    "kernelspec": {
      "name": "python3",
      "display_name": "Python 3"
    },
    "language_info": {
      "name": "python"
    }
  },
  "cells": [
    {
      "cell_type": "markdown",
      "metadata": {
        "id": "view-in-github",
        "colab_type": "text"
      },
      "source": [
        "<a href=\"https://colab.research.google.com/github/Ordaz-Yerikendy/Metodos-Numericos/blob/main/TutorialdeNumpy.ipynb\" target=\"_parent\"><img src=\"https://colab.research.google.com/assets/colab-badge.svg\" alt=\"Open In Colab\"/></a>"
      ]
    },
    {
      "cell_type": "markdown",
      "source": [
        "#Librería numpy"
      ],
      "metadata": {
        "id": "Y1wsuVQygNHh"
      }
    },
    {
      "cell_type": "markdown",
      "source": [
        "**¿Qúe es la librería numpy?**\n",
        "\n",
        "Es muy útil para realizar cálculos lógicos y matemáticos sobre cuadros y matrices. Puede realizar estas operaciones de manera mucho más rápida y eficaz que las listas de Python.\n",
        "\n",
        "Los arreglos de NumPy tienen algunas ventajas sobre las listas tradicionales de Python. En primer lugar, utilizan menos memoria y espacio de almacenamiento, que es su principal punto fuerte.\n",
        "\n",
        "Además, NumPy ofrece un mejor rendimiento en términos de velocidad de ejecución. Sin embargo, es más fácil y cómodo de usar.\n",
        "\n",
        "A continuación se estarán presentando ejemplos para poder usar esta librería"
      ],
      "metadata": {
        "id": "-ubR9EX9nTVp"
      }
    },
    {
      "cell_type": "code",
      "source": [
        "#Primer ejemplo\n",
        "import numpy as np\n",
        "\n",
        "# Definir el tamaño de la tabla (en este caso, de 1 a 10)\n",
        "n = 10\n",
        "\n",
        "# Crear una matriz de n x n con las multiplicaciones\n",
        "tabla_multiplicar = np.arange(1, n+1).reshape((n, 1)) * np.arange(1, n+1)\n",
        "\n",
        "# Imprimir la tabla de multiplicar\n",
        "print(\"Tabla de multiplicar:\")\n",
        "print(tabla_multiplicar)\n"
      ],
      "metadata": {
        "colab": {
          "base_uri": "https://localhost:8080/"
        },
        "id": "eHOCokEWttDM",
        "outputId": "297839b9-249b-4768-85fc-8b0db19fcf53"
      },
      "execution_count": 1,
      "outputs": [
        {
          "output_type": "stream",
          "name": "stdout",
          "text": [
            "Tabla de multiplicar:\n",
            "[[  1   2   3   4   5   6   7   8   9  10]\n",
            " [  2   4   6   8  10  12  14  16  18  20]\n",
            " [  3   6   9  12  15  18  21  24  27  30]\n",
            " [  4   8  12  16  20  24  28  32  36  40]\n",
            " [  5  10  15  20  25  30  35  40  45  50]\n",
            " [  6  12  18  24  30  36  42  48  54  60]\n",
            " [  7  14  21  28  35  42  49  56  63  70]\n",
            " [  8  16  24  32  40  48  56  64  72  80]\n",
            " [  9  18  27  36  45  54  63  72  81  90]\n",
            " [ 10  20  30  40  50  60  70  80  90 100]]\n"
          ]
        }
      ]
    },
    {
      "cell_type": "code",
      "source": [
        "#Segundo ejemplo\n",
        "import numpy as np  # Importamos la librería numpy\n",
        "\n",
        "# 1. Crear un arreglo con numpy\n",
        "arreglo = np.array([1, 2, 3, 4, 5])\n",
        "print(\"Arreglo original:\", arreglo)\n",
        "\n",
        "# 2. Multiplicar todos los elementos por 2\n",
        "arreglo_multiplicado = arreglo * 2\n",
        "print(\"Arreglo después de multiplicar por 2:\", arreglo_multiplicado)\n",
        "\n",
        "# 3. Calcular la media del arreglo\n",
        "media = np.mean(arreglo)\n",
        "print(\"La media del arreglo es:\", media)\n",
        "\n",
        "# 4. Crear un arreglo de ceros\n",
        "arreglo_zeros = np.zeros(3)\n",
        "print(\"Arreglo de ceros:\", arreglo_zeros)\n",
        "\n",
        "# 5. Crear un arreglo con un rango de valores\n",
        "arreglo_rango = np.arange(0, 10, 2)\n",
        "print(\"Arreglo con rango de 0 a 10, con paso 2:\", arreglo_rango)\n"
      ],
      "metadata": {
        "colab": {
          "base_uri": "https://localhost:8080/"
        },
        "id": "imb5mOwzqLEz",
        "outputId": "8e0d5ed4-03b1-474c-cab4-396fd065aeea"
      },
      "execution_count": 2,
      "outputs": [
        {
          "output_type": "stream",
          "name": "stdout",
          "text": [
            "Arreglo original: [1 2 3 4 5]\n",
            "Arreglo después de multiplicar por 2: [ 2  4  6  8 10]\n",
            "La media del arreglo es: 3.0\n",
            "Arreglo de ceros: [0. 0. 0.]\n",
            "Arreglo con rango de 0 a 10, con paso 2: [0 2 4 6 8]\n"
          ]
        }
      ]
    },
    {
      "cell_type": "code",
      "source": [
        "#Tercer ejemplo\n",
        "import numpy as np  # Importamos la librería numpy\n",
        "\n",
        "# 1. Crear una matriz 3x3\n",
        "matriz = np.array([[1, 2, 3], [4, 5, 6], [7, 8, 9]])\n",
        "print(\"Matriz original:\")\n",
        "print(matriz)\n",
        "\n",
        "# 2. Operación: Sumar 5 a cada elemento de la matriz\n",
        "matriz_sumada = matriz + 5\n",
        "print(\"\\nMatriz después de sumar 5 a cada elemento:\")\n",
        "print(matriz_sumada)\n",
        "\n",
        "# 3. Obtener la transpuesta de la matriz\n",
        "matriz_transpuesta = np.transpose(matriz)\n",
        "print(\"\\nMatriz transpuesta:\")\n",
        "print(matriz_transpuesta)\n",
        "\n",
        "# 4. Generar una matriz de números aleatorios de tamaño 3x3\n",
        "matriz_random = np.random.rand(3, 3)  # Números aleatorios entre 0 y 1\n",
        "print(\"\\nMatriz de números aleatorios 3x3:\")\n",
        "print(matriz_random)\n",
        "\n",
        "# 5. Filtrar los elementos de la matriz que son mayores que 4\n",
        "filtro = matriz > 4  # Crea una máscara booleana\n",
        "matriz_filtrada = matriz[filtro]\n",
        "print(\"\\nElementos de la matriz mayores que 4:\")\n",
        "print(matriz_filtrada)\n",
        "\n",
        "# 6. Calcular la media de todos los elementos de la matriz\n",
        "media_matriz = np.mean(matriz)\n",
        "print(\"\\nLa media de todos los elementos de la matriz es:\", media_matriz)\n",
        "\n",
        "# 7. Crear un arreglo con valores en un rango (de 0 a 20) con paso 3\n",
        "arreglo_rango = np.arange(0, 20, 3)\n",
        "print(\"\\nArreglo con valores de 0 a 20 con paso de 3:\")\n",
        "print(arreglo_rango)\n"
      ],
      "metadata": {
        "colab": {
          "base_uri": "https://localhost:8080/"
        },
        "id": "PuGADS7Wqab7",
        "outputId": "caced08d-1e12-4c2d-f9c0-c946de1bc2c8"
      },
      "execution_count": 3,
      "outputs": [
        {
          "output_type": "stream",
          "name": "stdout",
          "text": [
            "Matriz original:\n",
            "[[1 2 3]\n",
            " [4 5 6]\n",
            " [7 8 9]]\n",
            "\n",
            "Matriz después de sumar 5 a cada elemento:\n",
            "[[ 6  7  8]\n",
            " [ 9 10 11]\n",
            " [12 13 14]]\n",
            "\n",
            "Matriz transpuesta:\n",
            "[[1 4 7]\n",
            " [2 5 8]\n",
            " [3 6 9]]\n",
            "\n",
            "Matriz de números aleatorios 3x3:\n",
            "[[0.03433259 0.10393371 0.30803657]\n",
            " [0.09229134 0.31848093 0.13898528]\n",
            " [0.75857832 0.59387479 0.4327043 ]]\n",
            "\n",
            "Elementos de la matriz mayores que 4:\n",
            "[5 6 7 8 9]\n",
            "\n",
            "La media de todos los elementos de la matriz es: 5.0\n",
            "\n",
            "Arreglo con valores de 0 a 20 con paso de 3:\n",
            "[ 0  3  6  9 12 15 18]\n"
          ]
        }
      ]
    }
  ]
}