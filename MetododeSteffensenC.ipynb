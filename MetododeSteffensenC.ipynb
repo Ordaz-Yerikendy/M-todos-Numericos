{
  "nbformat": 4,
  "nbformat_minor": 0,
  "metadata": {
    "colab": {
      "provenance": [],
      "authorship_tag": "ABX9TyOD2UafS2Iz7+rtGcpt+/Cr",
      "include_colab_link": true
    },
    "kernelspec": {
      "name": "python3",
      "display_name": "Python 3"
    },
    "language_info": {
      "name": "python"
    }
  },
  "cells": [
    {
      "cell_type": "markdown",
      "metadata": {
        "id": "view-in-github",
        "colab_type": "text"
      },
      "source": [
        "<a href=\"https://colab.research.google.com/github/Ordaz-Yerikendy/Metodos-Numericos/blob/main/MetododeSteffensenC.ipynb\" target=\"_parent\"><img src=\"https://colab.research.google.com/assets/colab-badge.svg\" alt=\"Open In Colab\"/></a>"
      ]
    },
    {
      "cell_type": "markdown",
      "source": [
        "# Método de Steffensen\n"
      ],
      "metadata": {
        "id": "7GWDKs9vrMo3"
      }
    },
    {
      "cell_type": "code",
      "execution_count": 1,
      "metadata": {
        "id": "sc67U3GorJoF"
      },
      "outputs": [],
      "source": [
        "import math"
      ]
    },
    {
      "cell_type": "code",
      "source": [
        "# Definimos la función f(x) de la ecuación\n",
        "def f(x):\n",
        "    return math.cos(x) - 2 * x + 3\n",
        "\n",
        "def df(x):\n",
        "    return -math.sin(x) - 2  # Derivada de f(x)\n"
      ],
      "metadata": {
        "id": "80iCp__brUUm"
      },
      "execution_count": 2,
      "outputs": []
    },
    {
      "cell_type": "code",
      "source": [
        "# Implementación del método\n",
        "def hybrid_method(x0, tol=1e-5, max_iter=1000):\n",
        "    for i in range(max_iter):\n",
        "        # Paso 1: Usar Newton-Raphson para una mejor estimación\n",
        "        fx0 = f(x0)\n",
        "        dfx0 = df(x0)\n",
        "\n",
        "        if abs(dfx0) < 1e-10:  # Evitar división entre cero\n",
        "            print(\"Derivada muy pequeña, posible división por cero.\")\n",
        "            return None\n",
        "\n",
        "        x1 = x0 - fx0 / dfx0  # Estimación mejorada\n",
        "\n",
        "        # Paso 2: Usar Steffensen a partir de x1\n",
        "        for j in range(max_iter):\n",
        "            fx1 = f(x1)\n",
        "            x2 = x1 + fx1\n",
        "            fx2 = f(x2)\n",
        "\n",
        "            denominator = fx2 - 2 * fx1 + fx0\n",
        "            if abs(denominator) < 1e-6:\n",
        "                print(f\"Posible división por cero o desbordamiento detectado en iteración {j}.\")\n",
        "                return None\n",
        "\n",
        "            x_next = x1 - (fx1 ** 2) / denominator\n",
        "\n",
        "# Verificamos la precisión alcanzada\n",
        "            if abs(x_next - x1) < tol:\n",
        "                return x_next\n",
        "\n",
        "            x1 = x_next\n",
        "\n",
        "# Actualizamos x0 para la próxima iteración\n",
        "        x0 = x1\n",
        "\n",
        "    print(\"No se alcanzó la convergencia.\")\n",
        "    return None"
      ],
      "metadata": {
        "id": "W34IAFyJrU2p"
      },
      "execution_count": 3,
      "outputs": []
    },
    {
      "cell_type": "code",
      "source": [
        "# Rango para probar valores iniciales\n",
        "start = 0.0  # inicio del rango\n",
        "end = 2.0    # fin del rango\n",
        "step = 0.01  # tamaño del paso\n",
        "\n",
        "root_hybrid = None"
      ],
      "metadata": {
        "id": "PaknndVsrcFx"
      },
      "execution_count": 4,
      "outputs": []
    },
    {
      "cell_type": "code",
      "source": [
        "# Usamos el método en un rango con pasos\n",
        "print(\"Método:\")\n",
        "x0 = start\n",
        "while x0 <= end:\n",
        "    print(f\"Intentando con valor inicial: {x0:.2f}\")\n",
        "    root_hybrid = hybrid_method(x0)\n",
        "    if root_hybrid is not None:\n",
        "        print(f\"Raíz encontrada: {root_hybrid:.5f}\")\n",
        "        break\n",
        "    x0 += step\n",
        "\n",
        "if root_hybrid is None:\n",
        "    print(\"No se encontró una raíz con los valores iniciales probados.\")"
      ],
      "metadata": {
        "colab": {
          "base_uri": "https://localhost:8080/"
        },
        "id": "X6q9enairZ-Q",
        "outputId": "4ab3c6a1-9852-4046-eae2-81e0e444c6b5"
      },
      "execution_count": 5,
      "outputs": [
        {
          "output_type": "stream",
          "name": "stdout",
          "text": [
            "Método:\n",
            "Intentando con valor inicial: 0.00\n",
            "Raíz encontrada: 1.52569\n"
          ]
        }
      ]
    },
    {
      "cell_type": "markdown",
      "source": [
        "Hecho por Yerikendy Ordaz"
      ],
      "metadata": {
        "id": "GgzN70WLrmx9"
      }
    }
  ]
}