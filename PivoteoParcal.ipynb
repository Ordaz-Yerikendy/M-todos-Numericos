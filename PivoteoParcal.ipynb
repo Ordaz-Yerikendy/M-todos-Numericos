{
  "nbformat": 4,
  "nbformat_minor": 0,
  "metadata": {
    "colab": {
      "provenance": [],
      "authorship_tag": "ABX9TyPzvoErL22Ee8BhcEXBzbu1",
      "include_colab_link": true
    },
    "kernelspec": {
      "name": "python3",
      "display_name": "Python 3"
    },
    "language_info": {
      "name": "python"
    }
  },
  "cells": [
    {
      "cell_type": "markdown",
      "metadata": {
        "id": "view-in-github",
        "colab_type": "text"
      },
      "source": [
        "<a href=\"https://colab.research.google.com/github/Ordaz-Yerikendy/Metodos-Numericos/blob/main/PivoteoParcal.ipynb\" target=\"_parent\"><img src=\"https://colab.research.google.com/assets/colab-badge.svg\" alt=\"Open In Colab\"/></a>"
      ]
    },
    {
      "cell_type": "code",
      "source": [
        "import numpy as np"
      ],
      "metadata": {
        "id": "AuEi-MMj4wPM"
      },
      "execution_count": 9,
      "outputs": []
    },
    {
      "cell_type": "code",
      "source": [
        "# Establecemos la matriz aumentada del sistema\n",
        "A = np.array([\n",
        "    [0.003, 59.14, 59.17],  # E1: 0.003x1 + 59.14x2 = 59.17\n",
        "    [5.291, -6.13, 46.78]   # E2: 5.291x1 - 6.13x2 = 46.78\n",
        "], dtype=float)"
      ],
      "metadata": {
        "id": "mcH1KHY041dQ"
      },
      "execution_count": 10,
      "outputs": []
    },
    {
      "cell_type": "code",
      "source": [
        "# Definimos la función para aplicar eliminación gaussiana con pivoteo parcial\n",
        "def egpp(A):\n",
        "    n = len(A)\n",
        "    for i in range(n):\n",
        "        # Pivoteo parcial (buscamos el máximo valor absoluto en la columna i)\n",
        "        max_row = i + np.argmax(np.abs(A[i:, i]))\n",
        "        A[[i, max_row]] = A[[max_row, i]]  # Intercambiamos las filas\n",
        "\n",
        "        # Normalizamos la fila del pivote\n",
        "        pivot = A[i, i]\n",
        "        if pivot == 0:\n",
        "            raise ValueError(\"El sistema no tiene solución única.\")\n",
        "        A[i] = A[i] / pivot\n",
        "\n",
        "        # Eliminamos hacia adelante\n",
        "        for j in range(i + 1, n):\n",
        "            factor = A[j, i]\n",
        "            A[j] -= factor * A[i]\n",
        "\n",
        "    return A"
      ],
      "metadata": {
        "id": "9vcm2dAO46MO"
      },
      "execution_count": 11,
      "outputs": []
    },
    {
      "cell_type": "code",
      "source": [
        "# Definimos la función para realizar la sustitución hacia atrás\n",
        "def sustatras(A):\n",
        "    n = len(A)\n",
        "    x = np.zeros(n)\n",
        "\n",
        "    # Sustituimos hacia atrás desde la última fila\n",
        "    for i in range(n-1, -1, -1):\n",
        "        x[i] = A[i, -1] - np.sum(A[i, i+1:-1] * x[i+1:])\n",
        "\n",
        "    return x"
      ],
      "metadata": {
        "id": "Fcj304dW4-GY"
      },
      "execution_count": 12,
      "outputs": []
    },
    {
      "cell_type": "code",
      "source": [
        "# Ejecutamos la eliminación gaussiana con pivoteo\n",
        "A_gauss = egpp(A)"
      ],
      "metadata": {
        "id": "pniXaMN15Crx"
      },
      "execution_count": 13,
      "outputs": []
    },
    {
      "cell_type": "code",
      "execution_count": 14,
      "metadata": {
        "id": "NUfs8qzhxcf7"
      },
      "outputs": [],
      "source": [
        "# Realizamos la sustitución hacia atrás\n",
        "sol = sustatras(A_gauss)"
      ]
    },
    {
      "cell_type": "code",
      "source": [
        "# Imprimimos los resultados\n",
        "print(\"La Soluciones del sistema:\")\n",
        "for i, val in enumerate(sol):\n",
        "    print(f\"x{i+1} = {val:.4f}\")"
      ],
      "metadata": {
        "colab": {
          "base_uri": "https://localhost:8080/"
        },
        "id": "VZEV9VM35GWS",
        "outputId": "9f617731-9752-49aa-c13e-6a675da2c05a"
      },
      "execution_count": 15,
      "outputs": [
        {
          "output_type": "stream",
          "name": "stdout",
          "text": [
            "La Soluciones del sistema:\n",
            "x1 = 10.0000\n",
            "x2 = 1.0000\n"
          ]
        }
      ]
    }
  ]
}