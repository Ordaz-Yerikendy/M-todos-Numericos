{
  "nbformat": 4,
  "nbformat_minor": 0,
  "metadata": {
    "colab": {
      "provenance": [],
      "authorship_tag": "ABX9TyMJCAoyKMEhu8JLRbLbP/49",
      "include_colab_link": true
    },
    "kernelspec": {
      "name": "python3",
      "display_name": "Python 3"
    },
    "language_info": {
      "name": "python"
    }
  },
  "cells": [
    {
      "cell_type": "markdown",
      "metadata": {
        "id": "view-in-github",
        "colab_type": "text"
      },
      "source": [
        "<a href=\"https://colab.research.google.com/github/Ordaz-Yerikendy/Metodos-Numericos/blob/main/Metodo%20de%20M%C3%BCller.ipynb\" target=\"_parent\"><img src=\"https://colab.research.google.com/assets/colab-badge.svg\" alt=\"Open In Colab\"/></a>"
      ]
    },
    {
      "cell_type": "markdown",
      "source": [
        "# Método de Müller"
      ],
      "metadata": {
        "id": "tNRmtXjAyWTp"
      }
    },
    {
      "cell_type": "code",
      "source": [
        "from decimal import Decimal, getcontext\n",
        "import cmath"
      ],
      "metadata": {
        "id": "a_RdhG57yPmN"
      },
      "execution_count": 1,
      "outputs": []
    },
    {
      "cell_type": "code",
      "source": [
        "# Configuramos la  precisión decimal\n",
        "getcontext().prec = 90\n",
        "def muller(f, x0, x1, x2, tol=Decimal('1e-15'), max_iter=1000):\n",
        "    x0, x1, x2 = complex(x0), complex(x1), complex(x2)\n",
        "\n",
        "    for _ in range(max_iter):\n",
        "        h1 = x1 - x0\n",
        "        h2 = x2 - x1\n",
        "        δ1 = (f(x1) - f(x0)) / h1\n",
        "        δ2 = (f(x2) - f(x1)) / h2\n",
        "        d = (δ2 - δ1) / (h2 + h1) if (h2 + h1) != 0 else 0  # Evitarmos la división entre cero\n",
        "\n",
        "        b = δ2 + h2 * d\n",
        "        D = cmath.sqrt(b**2 - 4 * f(x2) * d)\n",
        "\n",
        "        if abs(b - D) < abs(b + D):\n",
        "            E = b + D\n",
        "        else:\n",
        "            E = b - D\n",
        "\n",
        "        h = -2 * f(x2) / E\n",
        "        x3 = x2 + h\n",
        "\n",
        "        if abs(h) < tol:\n",
        "            return x3\n",
        "\n",
        "        x0, x1, x2 = x1, x2, x3\n",
        "\n",
        "    return None\n"
      ],
      "metadata": {
        "id": "KEGVGFcrygve"
      },
      "execution_count": 2,
      "outputs": []
    },
    {
      "cell_type": "code",
      "source": [
        "def ds(coeffs, root):\n",
        "    new_coeffs = []\n",
        "    remainder = coeffs[0]\n",
        "    new_coeffs.append(remainder)\n",
        "\n",
        "    for i in range(1, len(coeffs) - 1):\n",
        "        remainder = remainder * root + coeffs[i]\n",
        "        new_coeffs.append(remainder)\n",
        "\n",
        "    return new_coeffs, remainder * root + coeffs[-1]\n",
        "\n",
        "def funcion(coeffs):\n",
        "    def f(x):\n",
        "        result = 0\n",
        "        for i, coeff in enumerate(coeffs):\n",
        "            result += coeff * (x ** (len(coeffs) - i - 1))\n",
        "        return result\n",
        "    return f"
      ],
      "metadata": {
        "id": "2a2bgN3gyhVt"
      },
      "execution_count": 3,
      "outputs": []
    },
    {
      "cell_type": "code",
      "source": [
        "# Polinomio: 3x^3 - 8x^2 + x -69\n",
        "coeffs = [3, -8, 1, -69]"
      ],
      "metadata": {
        "id": "FdlrR9tlyjdl"
      },
      "execution_count": 4,
      "outputs": []
    },
    {
      "cell_type": "code",
      "source": [
        "# Encontrar las raíces una por una\n",
        "roots = []\n",
        "for _ in range(3):  # Indicamos que el polinomio es de grado 3\n",
        "    x0 = Decimal('0')  # Cambiamos a un valor más alejado\n",
        "    x1 = Decimal('2')    # Valor inicial\n",
        "    x2 = Decimal('4')    # Otro valor inicial\n",
        "\n",
        "    f = funcion(coeffs)\n",
        "\n",
        "    root = muller(f, x0, x1, x2)\n",
        "    roots.append(root)\n",
        "\n",
        "    # Dividimos el polinomio por (x - raíz)\n",
        "    coeffs, _ = ds(coeffs, root)\n",
        "\n",
        "print(\"Las raíces encontradas son:\")\n",
        "for r in roots:\n",
        "    print(r)"
      ],
      "metadata": {
        "colab": {
          "base_uri": "https://localhost:8080/"
        },
        "id": "FyYMd_f2ymSt",
        "outputId": "1f9daa94-5704-46b4-fb4f-1dc85a726311"
      },
      "execution_count": 5,
      "outputs": [
        {
          "output_type": "stream",
          "name": "stdout",
          "text": [
            "Las raíces encontradas son:\n",
            "(4.012293368799542+0j)\n",
            "(-0.6728133510664376-2.297760784287045j)\n",
            "(-0.6728133510664375+2.297760784287045j)\n"
          ]
        }
      ]
    }
  ]
}