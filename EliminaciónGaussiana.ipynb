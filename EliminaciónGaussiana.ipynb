{
  "nbformat": 4,
  "nbformat_minor": 0,
  "metadata": {
    "colab": {
      "provenance": [],
      "authorship_tag": "ABX9TyPceyl58nl8kRxx3PFPrsjg",
      "include_colab_link": true
    },
    "kernelspec": {
      "name": "python3",
      "display_name": "Python 3"
    },
    "language_info": {
      "name": "python"
    }
  },
  "cells": [
    {
      "cell_type": "markdown",
      "metadata": {
        "id": "view-in-github",
        "colab_type": "text"
      },
      "source": [
        "<a href=\"https://colab.research.google.com/github/Ordaz-Yerikendy/Metodos-Numericos/blob/main/Eliminaci%C3%B3nGaussiana.ipynb\" target=\"_parent\"><img src=\"https://colab.research.google.com/assets/colab-badge.svg\" alt=\"Open In Colab\"/></a>"
      ]
    },
    {
      "cell_type": "code",
      "source": [
        "import numpy as np"
      ],
      "metadata": {
        "id": "6Dgz8wIa1_Kt"
      },
      "execution_count": 10,
      "outputs": []
    },
    {
      "cell_type": "code",
      "source": [
        "# Establecemos el sistema de ecuaciones representado en forma de matriz aumentada\n",
        "A = np.array([\n",
        "    [1, -1, 2, -1, -8],   # E1: x1 - x2 + 2x3 - x4 = -8\n",
        "    [2, -2, 3, -3, -20],  # E2: 2x1 - 2x2 + 3x3 - 3x4 = -20\n",
        "    [1, 1, 1, 0, -2],     # E3: x1 + x2 + x3 = -2\n",
        "    [1, -1, 4, 3, 4]      # E4: x1 - x2 + 4x3 + 3x4 = 4\n",
        "], dtype=float)"
      ],
      "metadata": {
        "id": "HalM1No42IHQ"
      },
      "execution_count": 11,
      "outputs": []
    },
    {
      "cell_type": "code",
      "source": [
        "# Definimos la función para realizar la eliminación gaussiana\n",
        "def gausselim(A):\n",
        "    n = len(A)\n",
        "    for i in range(n):\n",
        "        # Pivoteo parcial (intercambiar filas si es necesario)\n",
        "        max_row = i + np.argmax(abs(A[i:, i]))\n",
        "        A[[i, max_row]] = A[[max_row, i]]\n",
        "\n",
        "        # Normalizamosdel pivote\n",
        "        pivot = A[i, i]\n",
        "        if pivot == 0:\n",
        "            raise ValueError(\"El sistema no tiene solución única.\")\n",
        "        A[i] = A[i] / pivot\n",
        "\n",
        "        # Eliminación hacia adelante (hacer ceros abajo del pivote)\n",
        "        for j in range(i + 1, n):\n",
        "            factor = A[j, i]\n",
        "            A[j] -= factor * A[i]\n",
        "\n",
        "    return A"
      ],
      "metadata": {
        "id": "VWeCkkBt2Srs"
      },
      "execution_count": 12,
      "outputs": []
    },
    {
      "cell_type": "code",
      "source": [
        "# Definimos la función para realizar la sustitución hacia atrás\n",
        "def sustatras(A):\n",
        "    n = len(A)\n",
        "    x = np.zeros(n)\n",
        "    # Sustitución hacia atrás desde la última fila\n",
        "    for i in range(n-1, -1, -1):\n",
        "        x[i] = A[i, -1] - np.sum(A[i, i+1:-1] * x[i+1:])\n",
        "    return x"
      ],
      "metadata": {
        "id": "lCr0jmsI2Vd8"
      },
      "execution_count": 13,
      "outputs": []
    },
    {
      "cell_type": "code",
      "execution_count": 14,
      "metadata": {
        "id": "2oxM845xwbpY"
      },
      "outputs": [],
      "source": [
        "# Ejecutamos la eliminación gaussiana\n",
        "A_gauss = gausselim(A)\n"
      ]
    },
    {
      "cell_type": "code",
      "source": [
        "# Realizamos sustitución hacia atrás para encontrar las soluciones\n",
        "sol = sustatras(A_gauss)\n"
      ],
      "metadata": {
        "id": "u0aeKmu12aOn"
      },
      "execution_count": 15,
      "outputs": []
    },
    {
      "cell_type": "code",
      "source": [
        "# Imprimimos resultados\n",
        "print(\"La Solución del sistema:\")\n",
        "for i, val in enumerate(sol):\n",
        "    print(f\"x{i+1} = {val:.2f}\")"
      ],
      "metadata": {
        "colab": {
          "base_uri": "https://localhost:8080/"
        },
        "id": "vkTrQKcc2cLp",
        "outputId": "7e279005-7f77-4bcf-ebf9-110175c2c5f0"
      },
      "execution_count": 16,
      "outputs": [
        {
          "output_type": "stream",
          "name": "stdout",
          "text": [
            "La Solución del sistema:\n",
            "x1 = -7.00\n",
            "x2 = 3.00\n",
            "x3 = 2.00\n",
            "x4 = 2.00\n"
          ]
        }
      ]
    }
  ]
}