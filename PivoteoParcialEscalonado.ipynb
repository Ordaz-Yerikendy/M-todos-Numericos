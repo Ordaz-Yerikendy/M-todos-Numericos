{
  "nbformat": 4,
  "nbformat_minor": 0,
  "metadata": {
    "colab": {
      "provenance": [],
      "authorship_tag": "ABX9TyM3ZnLCwTSaYABYNS9fOeEZ",
      "include_colab_link": true
    },
    "kernelspec": {
      "name": "python3",
      "display_name": "Python 3"
    },
    "language_info": {
      "name": "python"
    }
  },
  "cells": [
    {
      "cell_type": "markdown",
      "metadata": {
        "id": "view-in-github",
        "colab_type": "text"
      },
      "source": [
        "<a href=\"https://colab.research.google.com/github/Ordaz-Yerikendy/Metodos-Numericos/blob/main/PivoteoParcialEscalonado.ipynb\" target=\"_parent\"><img src=\"https://colab.research.google.com/assets/colab-badge.svg\" alt=\"Open In Colab\"/></a>"
      ]
    },
    {
      "cell_type": "code",
      "source": [
        "import numpy as np"
      ],
      "metadata": {
        "id": "CpTf4bsMzKeP"
      },
      "execution_count": 39,
      "outputs": []
    },
    {
      "cell_type": "code",
      "source": [
        "def redon(val, digitos=3):\n",
        "    \"\"\"\n",
        "    Redonder un valor a 3 cifras.\n",
        "    \"\"\"\n",
        "    if val == 0:\n",
        "        return 0\n",
        "    return round(val, digitos - int(np.floor(np.log10(abs(val)))) - 1)\n",
        "\n",
        "def gppe(A, b):\n",
        "    \"\"\"\n",
        "    Implementa eliminación gaussiana con pivoteo parcial escalado y redondeo a 3 cifras.\n",
        "    \"\"\"\n",
        "    n = len(b)\n",
        "    s = np.max(np.abs(A), axis=1)  # Vector de escalamiento por filas\n",
        "    index = np.arange(n)\n",
        "\n",
        "    # Eliminación\n",
        "    for k in range(n-1):\n",
        "        # Aplicamos pivoteo parcial escalado\n",
        "        ratios = np.abs(A[index[k:], k] / s[index[k:]])\n",
        "        p = np.argmax(ratios) + k\n",
        "\n",
        "        # Intercambiamos las filas\n",
        "        if p != k:\n",
        "            index[k], index[p] = index[p], index[k]\n",
        "\n",
        "        # Eliminación gaussiana\n",
        "        for i in range(k+1, n):\n",
        "            m = redon(A[index[i], k] / A[index[k], k])\n",
        "            for j in range(k, n):\n",
        "                A[index[i], j] = redon(A[index[i], j] - redon(m * A[index[k], j]))\n",
        "            b[index[i]] = redon(b[index[i]] - redon(m * b[index[k]]))\n",
        "\n",
        " # Comenzamos la sustitución hacia atrás\n",
        "    x = np.zeros(n)\n",
        "    for i in range(n-1, -1, -1):\n",
        "        suma = np.dot(A[index[i], i+1:], x[i+1:])\n",
        "        x[i] = redon((b[index[i]] - suma) / A[index[i], i])\n",
        "\n",
        "    return x"
      ],
      "metadata": {
        "id": "t72lql_MzKbC"
      },
      "execution_count": 40,
      "outputs": []
    },
    {
      "cell_type": "code",
      "source": [
        "# Determinamos el sistema de ecuaciones\n",
        "A = np.array([\n",
        "    [2.11, -4.21, 0.921],\n",
        "    [4.01, 10.2, -1.12],\n",
        "    [1.09, 0.987, 0.832]\n",
        "])\n",
        "\n",
        "b = np.array([2.01, -3.09, 4.21])"
      ],
      "metadata": {
        "id": "yDD0x6e1zLEO"
      },
      "execution_count": 41,
      "outputs": []
    },
    {
      "cell_type": "code",
      "source": [
        "# Llamamos a la función\n",
        "solucion = gppe(A.copy(), b.copy())\n"
      ],
      "metadata": {
        "id": "lWFycTjpzb52"
      },
      "execution_count": 42,
      "outputs": []
    },
    {
      "cell_type": "code",
      "source": [
        "# Imprimimos los  resultados\n",
        "print(\"La Solución del sistema:\")\n",
        "print(f\"x = {solucion[0]}, y = {solucion[1]}, z = {solucion[2]}\")"
      ],
      "metadata": {
        "colab": {
          "base_uri": "https://localhost:8080/"
        },
        "id": "2268-5QkzeDR",
        "outputId": "fbad8ff2-367a-41e4-a1d8-15cbe128f6fa"
      },
      "execution_count": 43,
      "outputs": [
        {
          "output_type": "stream",
          "name": "stdout",
          "text": [
            "La Solución del sistema:\n",
            "x = -0.435, y = 0.43, z = 5.12\n"
          ]
        }
      ]
    }
  ]
}