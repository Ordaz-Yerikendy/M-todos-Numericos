{
  "nbformat": 4,
  "nbformat_minor": 0,
  "metadata": {
    "colab": {
      "provenance": [],
      "authorship_tag": "ABX9TyPqtKkPyf6mtXoJS+el4oGc",
      "include_colab_link": true
    },
    "kernelspec": {
      "name": "python3",
      "display_name": "Python 3"
    },
    "language_info": {
      "name": "python"
    }
  },
  "cells": [
    {
      "cell_type": "markdown",
      "metadata": {
        "id": "view-in-github",
        "colab_type": "text"
      },
      "source": [
        "<a href=\"https://colab.research.google.com/github/Ordaz-Yerikendy/Metodos-Numericos/blob/main/PolinomiodeHermite.ipynb\" target=\"_parent\"><img src=\"https://colab.research.google.com/assets/colab-badge.svg\" alt=\"Open In Colab\"/></a>"
      ]
    },
    {
      "cell_type": "code",
      "execution_count": 20,
      "metadata": {
        "id": "i_xCuXnA3SJO"
      },
      "outputs": [],
      "source": [
        "import numpy as np"
      ]
    },
    {
      "cell_type": "code",
      "source": [
        "def hermite_inter(x, f, f_prime):\n",
        "    n = len(x)\n",
        "    z = np.zeros(2 * n)\n",
        "    Q = np.zeros((2 * n, 2 * n))\n",
        "    # Inicializamos z y Q\n",
        "    for i in range(n):\n",
        "        z[2 * i] = x[i]\n",
        "        z[2 * i + 1] = x[i]\n",
        "        Q[2 * i][0] = f[i]\n",
        "        Q[2 * i + 1][0] = f[i]\n",
        "        Q[2 * i + 1][1] = f_prime[i]\n",
        "        if i != 0:\n",
        "            Q[2 * i][1] = (Q[2 * i][0] - Q[2 * i - 1][0]) / (z[2 * i] - z[2 * i - 1])\n",
        "    # Calculamos las diferencias divididas\n",
        "    for i in range(2, 2 * n):\n",
        "        for j in range(2, i + 1):\n",
        "            Q[i][j] = (Q[i][j - 1] - Q[i - 1][j - 1]) / (z[i] - z[i - j])\n",
        "# Devolvemos los coeficientes de Q\n",
        "    return z, Q"
      ],
      "metadata": {
        "id": "h472MUxf67o3"
      },
      "execution_count": 25,
      "outputs": []
    },
    {
      "cell_type": "code",
      "source": [
        "def evaluar_polino(z, Q, x_value):\n",
        "    n = len(z)\n",
        "    resul = Q[0][0]\n",
        "    product = 1.0\n",
        "    for i in range(1, n):\n",
        "        product *= (x_value - z[i - 1])\n",
        "        resul += Q[i][i] * product\n",
        "    return resul"
      ],
      "metadata": {
        "id": "UnvE6oD17vWb"
      },
      "execution_count": 26,
      "outputs": []
    },
    {
      "cell_type": "code",
      "source": [
        "# Creamos la tabla\n",
        "x = [1.3, 1.6, 1.9]\n",
        "f = [0.620860, 0.4554022, 0.2818186]\n",
        "f_prime = [-0.5220232, -0.5698959, -0.5811571]"
      ],
      "metadata": {
        "id": "dCQr9xFh8Bft"
      },
      "execution_count": 27,
      "outputs": []
    },
    {
      "cell_type": "code",
      "source": [
        "# Calculamos el polinomio de Hermite\n",
        "z, Q = hermite_inter(x, f, f_prime)"
      ],
      "metadata": {
        "id": "-8aEnmw_8Lhu"
      },
      "execution_count": 28,
      "outputs": []
    },
    {
      "cell_type": "code",
      "source": [
        "# Evaluamos el polinomio en x = 1.5\n",
        "x_value = 1.5\n",
        "aproximacion = evaluar_polino(z, Q, x_value)"
      ],
      "metadata": {
        "id": "CLuyfbii8MTa"
      },
      "execution_count": 29,
      "outputs": []
    },
    {
      "cell_type": "code",
      "source": [
        "# Imprimimos los resultados\n",
        "print(\"z:\", z )\n",
        "print(\"La Tabla Q es:\"\n",
        ")\n",
        "print(Q)\n",
        "print(f\"El valor aproximado de f({x_value}) es {aproximacion}\")"
      ],
      "metadata": {
        "colab": {
          "base_uri": "https://localhost:8080/"
        },
        "id": "gfuBTitY8O5u",
        "outputId": "1e92d9e3-274a-4acf-c392-45b3a12392b3"
      },
      "execution_count": 38,
      "outputs": [
        {
          "output_type": "stream",
          "name": "stdout",
          "text": [
            "z: [1.3 1.3 1.6 1.6 1.9 1.9]\n",
            "La Tabla Q es:\n",
            "[[ 0.62086     0.          0.          0.          0.          0.        ]\n",
            " [ 0.62086    -0.5220232   0.          0.          0.          0.        ]\n",
            " [ 0.4554022  -0.551526   -0.09834267  0.          0.          0.        ]\n",
            " [ 0.4554022  -0.5698959  -0.061233    0.12369889  0.          0.        ]\n",
            " [ 0.2818186  -0.578612   -0.02905367  0.05363222 -0.11677778  0.        ]\n",
            " [ 0.2818186  -0.5811571  -0.00848367  0.06856667  0.02489074  0.2361142 ]]\n",
            "El valor aproximado de f(1.5) es 0.5119423683950619\n"
          ]
        }
      ]
    }
  ]
}