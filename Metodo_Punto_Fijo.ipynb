{
  "cells": [
    {
      "cell_type": "markdown",
      "id": "3154e14b",
      "metadata": {
        "id": "3154e14b"
      },
      "source": [
        "# Método de Punto Fijo\n",
        "\n",
        "\n",
        "\n"
      ]
    },
    {
      "cell_type": "code",
      "execution_count": 17,
      "id": "9d5e2287",
      "metadata": {
        "id": "9d5e2287"
      },
      "outputs": [],
      "source": [
        "from math import *\n",
        "import numpy as np\n",
        "import matplotlib . pyplot as plt"
      ]
    },
    {
      "cell_type": "code",
      "execution_count": 18,
      "id": "db980446",
      "metadata": {
        "id": "db980446"
      },
      "outputs": [],
      "source": [
        "def funcion1(x):\n",
        "    #return x**3 - x - 1 Ingresamos la función original pero la tenemos que transformar\n",
        "     return (x+1)**(1/3) #Transformamos la función original"
      ]
    },
    {
      "cell_type": "code",
      "execution_count": 19,
      "id": "679a51af",
      "metadata": {
        "id": "679a51af"
      },
      "outputs": [],
      "source": [
        "# Ingreso datos de entrada para los diferentes métodos a trabajar\n",
        "p = 1 # Aproximación dada\n",
        "\n",
        "# guarda valores iniciales\n",
        "p0 = p\n",
        "\n",
        "#guarda valores iniciales del error y del número de iteraciones\n",
        "tol = 0.01 #float(input(\"Ingrese el valor de la tolerancia: \"))\n",
        "nmax = 100 #float(input(\"Ingrese el número máximo de iteraciones: \"))\n",
        "error = 100\n",
        "niter = 0"
      ]
    },
    {
      "cell_type": "code",
      "execution_count": 20,
      "id": "6b4c08a0",
      "metadata": {
        "id": "6b4c08a0",
        "outputId": "2636584f-e3bb-49a2-d544-11f348022e1a",
        "colab": {
          "base_uri": "https://localhost:8080/"
        }
      },
      "outputs": [
        {
          "output_type": "stream",
          "name": "stdout",
          "text": [
            "# iter\t\t m \t\t f(m) \t\t error\n",
            "0 \t\t 1.0000 \t 1.2599 \t 100.0000\n",
            "1 \t\t 1.259921 \t 1.312294 \t 0.259921\n",
            "2 \t\t 1.312294 \t 1.322354 \t 0.052373\n",
            "3 \t\t 1.322354 \t 1.324269 \t 0.010060\n",
            "4 \t\t 1.324269 \t 1.324633 \t 0.001915\n",
            "La raíz de la función dada en el intervalo [1.0000 es 1.3242687\n"
          ]
        }
      ],
      "source": [
        "# Método de Punto Fijo\n",
        "\n",
        "# Evaluo en el punto medio, pero el punto medio entre el intervalo es p0\n",
        "m = p0\n",
        "\n",
        "#Evaluación de la función en el punto m\n",
        "fm = funcion1(m)\n",
        "\n",
        "print(\"# iter\\t\\t m \\t\\t f(m) \\t\\t error\")\n",
        "print(\"{0} \\t\\t {1:6.4f} \\t {2:6.4f} \\t {3:6.4f}\".format(niter, m, fm, error))\n",
        "\n",
        "# ciclo iterativo\n",
        "while error > tol and niter < nmax:\n",
        "    m = funcion1(m)\n",
        "    fm = funcion1(m)\n",
        "    error = abs(m - p)\n",
        "    niter += 1\n",
        "    print(\"{0} \\t\\t {1:6.6f} \\t {2:6.6f} \\t {3:6.6f}\".format(niter, m, fm, error ))\n",
        "    p = m\n",
        "\n",
        "print(\"La raíz de la función dada en el intervalo [{0:6.4f} es {1:6.7f}\".format(p0, m))"
      ]
    },
    {
      "cell_type": "markdown",
      "source": [
        "\n",
        "Elaborado por Yerikendy Ordaz\n"
      ],
      "metadata": {
        "id": "NlUuNBvRyaKb"
      },
      "id": "NlUuNBvRyaKb"
    }
  ],
  "metadata": {
    "kernelspec": {
      "display_name": "Python 3 (ipykernel)",
      "language": "python",
      "name": "python3"
    },
    "language_info": {
      "codemirror_mode": {
        "name": "ipython",
        "version": 3
      },
      "file_extension": ".py",
      "mimetype": "text/x-python",
      "name": "python",
      "nbconvert_exporter": "python",
      "pygments_lexer": "ipython3",
      "version": "3.7.3"
    },
    "colab": {
      "provenance": []
    }
  },
  "nbformat": 4,
  "nbformat_minor": 5
}