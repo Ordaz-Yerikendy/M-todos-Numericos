{
  "nbformat": 4,
  "nbformat_minor": 0,
  "metadata": {
    "colab": {
      "provenance": [],
      "authorship_tag": "ABX9TyMJO0xOQKo0NsO5ZkR1lz8x",
      "include_colab_link": true
    },
    "kernelspec": {
      "name": "python3",
      "display_name": "Python 3"
    },
    "language_info": {
      "name": "python"
    }
  },
  "cells": [
    {
      "cell_type": "markdown",
      "metadata": {
        "id": "view-in-github",
        "colab_type": "text"
      },
      "source": [
        "<a href=\"https://colab.research.google.com/github/Ordaz-Yerikendy/Metodos-Numericos/blob/main/Factorizaci%C3%B3nLU.ipynb\" target=\"_parent\"><img src=\"https://colab.research.google.com/assets/colab-badge.svg\" alt=\"Open In Colab\"/></a>"
      ]
    },
    {
      "cell_type": "code",
      "source": [
        "import numpy as np"
      ],
      "metadata": {
        "id": "uRVKwrlf-clc"
      },
      "execution_count": 30,
      "outputs": []
    },
    {
      "cell_type": "code",
      "source": [
        "def facLU(A):\n",
        "    \"\"\"\n",
        "    Realiza la factorización LU de una matriz cuadrada A.\n",
        "    La matriz A se descompone en A = L * U, donde:\n",
        "    - L es una matriz triangular inferior (con 1s en la diagonal principal).\n",
        "    - U es una matriz triangular superior.\n",
        "\n",
        "    Parámetros:\n",
        "    A (numpy.ndarray): Matriz cuadrada de tamaño nxn.\n",
        "\n",
        "    Retorna:\n",
        "    L (numpy.ndarray): Matriz triangular inferior.\n",
        "    U (numpy.ndarray): Matriz triangular superior.\n",
        "    \"\"\"\n",
        "    n = A.shape[0]  # Tamaño de la matriz\n",
        "    L = np.eye(n)   # Inicializamos L como matriz identidad\n",
        "    U = A.copy()    # Copia de A para modificarla y obtener U\n",
        "\n",
        "    for i in range(n):\n",
        "        # Verificamos si el pivote es cero para evitar división por cero\n",
        "        if U[i, i] == 0:\n",
        "            raise ValueError(\"El pivote es cero. Reordenar filas para continuar.\")\n",
        "\n",
        "        for j in range(i+1, n):\n",
        "            # Calculamos el multiplicador\n",
        "            factor = U[j, i] / U[i, i]\n",
        "            L[j, i] = factor  # Guardamos el multiplicador en L\n",
        "            # Restamos el múltiplo de la fila i de U a la fila j de U\n",
        "            U[j, i:] -= factor * U[i, i:]\n",
        "\n",
        "    return L, U"
      ],
      "metadata": {
        "id": "e_a3dR6p-eQC"
      },
      "execution_count": 31,
      "outputs": []
    },
    {
      "cell_type": "code",
      "source": [
        "# Definimos la matriz de prueba\n",
        "A= np.array([\n",
        "    [1, 1, 0, 3],\n",
        "    [2, 1, -1, 1],\n",
        "    [3, -1, -1, 2],\n",
        "    [-1, 2, 3, -1]\n",
        "], dtype=float)"
      ],
      "metadata": {
        "id": "UqMrwtqh-iAS"
      },
      "execution_count": 32,
      "outputs": []
    },
    {
      "cell_type": "code",
      "source": [
        "# Aplicamos la factorización LU\n",
        "L, U = facLU(A)"
      ],
      "metadata": {
        "id": "D4XNtBiA-kbG"
      },
      "execution_count": 33,
      "outputs": []
    },
    {
      "cell_type": "code",
      "source": [
        "# Verificamos el resultado\n",
        "LU = np.dot(L, U)"
      ],
      "metadata": {
        "id": "pHNHJQnj-mRU"
      },
      "execution_count": 34,
      "outputs": []
    },
    {
      "cell_type": "code",
      "source": [
        "# Mostramos los resultados\n",
        "print(\"La Matriz A:\")\n",
        "print(A)\n",
        "print(\"\\nLa Matriz L (triangular inferior):\")\n",
        "print(L)\n",
        "print(\"\\nLa Matriz U (triangular superior):\")\n",
        "print(U)\n",
        "print(\"\\nCálculo de L * U:\")\n",
        "print(LU)"
      ],
      "metadata": {
        "colab": {
          "base_uri": "https://localhost:8080/"
        },
        "id": "b5M6gcNG-ogE",
        "outputId": "3f279ff6-712d-472e-edec-9a616e6ea978"
      },
      "execution_count": 35,
      "outputs": [
        {
          "output_type": "stream",
          "name": "stdout",
          "text": [
            "La Matriz A:\n",
            "[[ 1.  1.  0.  3.]\n",
            " [ 2.  1. -1.  1.]\n",
            " [ 3. -1. -1.  2.]\n",
            " [-1.  2.  3. -1.]]\n",
            "\n",
            "La Matriz L (triangular inferior):\n",
            "[[ 1.  0.  0.  0.]\n",
            " [ 2.  1.  0.  0.]\n",
            " [ 3.  4.  1.  0.]\n",
            " [-1. -3.  0.  1.]]\n",
            "\n",
            "La Matriz U (triangular superior):\n",
            "[[  1.   1.   0.   3.]\n",
            " [  0.  -1.  -1.  -5.]\n",
            " [  0.   0.   3.  13.]\n",
            " [  0.   0.   0. -13.]]\n",
            "\n",
            "Cálculo de L * U:\n",
            "[[ 1.  1.  0.  3.]\n",
            " [ 2.  1. -1.  1.]\n",
            " [ 3. -1. -1.  2.]\n",
            " [-1.  2.  3. -1.]]\n"
          ]
        }
      ]
    },
    {
      "cell_type": "code",
      "execution_count": 36,
      "metadata": {
        "colab": {
          "base_uri": "https://localhost:8080/"
        },
        "id": "zPh3tEo79Pqy",
        "outputId": "3ff93905-8479-45e9-c878-8e59a07ce273"
      },
      "outputs": [
        {
          "output_type": "stream",
          "name": "stdout",
          "text": [
            "\n",
            "La factorización LU es correcta.\n"
          ]
        }
      ],
      "source": [
        "# Comprobamos si la matriz LU es igual a la original\n",
        "if np.allclose(A, LU):\n",
        "    print(\"\\nLa factorización LU es correcta.\")\n",
        "else:\n",
        "    print(\"\\nLa factorización LU es incorrecta.\")"
      ]
    }
  ]
}