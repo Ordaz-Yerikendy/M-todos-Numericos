{
  "cells": [
    {
      "cell_type": "markdown",
      "metadata": {
        "id": "view-in-github",
        "colab_type": "text"
      },
      "source": [
        "<a href=\"https://colab.research.google.com/github/Ordaz-Yerikendy/Metodos-Numericos/blob/main/Metodo%20de%20Horner.ipynb\" target=\"_parent\"><img src=\"https://colab.research.google.com/assets/colab-badge.svg\" alt=\"Open In Colab\"/></a>"
      ]
    },
    {
      "cell_type": "markdown",
      "id": "3154e14b",
      "metadata": {
        "id": "3154e14b"
      },
      "source": [
        "# Método de Horner\n",
        "\n",
        "\n",
        "\n"
      ]
    },
    {
      "cell_type": "code",
      "execution_count": null,
      "id": "9d5e2287",
      "metadata": {
        "id": "9d5e2287"
      },
      "outputs": [],
      "source": [
        "from math import *\n",
        "import numpy as np\n",
        "import matplotlib . pyplot as plt"
      ]
    },
    {
      "cell_type": "code",
      "execution_count": null,
      "id": "db980446",
      "metadata": {
        "id": "db980446"
      },
      "outputs": [],
      "source": [
        "def funcion(p, x0):\n",
        "  q = p[0] # Comenzamos con el coeficiente del grado más grande\n",
        "  dq = 0 # La primera derivada es 0\n",
        "\n",
        "  for i in range (1, len(p)):\n",
        "    dq = dq * x0 + q\n",
        "  # Calculamos la derivada\n",
        "    q = q * x0 + p[i] #Calculamos el polinomio\n",
        "  return q, dq\n"
      ]
    },
    {
      "cell_type": "code",
      "source": [
        "def newton (p, x0, tol=1e-6, nmax=100):\n",
        "  for i in range (nmax):\n",
        "      q, dq = funcion(p,x0)\n",
        "\n",
        "      if abs (q) < tol:\n",
        "        return x0 # Se encontró una raíz exacta\n",
        "\n",
        "      if dq ==0:\n",
        "        print (\"La derivada es cero, no se puede continuar\")\n",
        "        return None # Aquí evitamos la división entre cero\n",
        "\n",
        "# Aplicamos el método de Newton\n",
        "      x0 = x0 - q/dq\n",
        "      print (\"Número máximo de iteraciones alcanzado\")\n",
        "      return x0\n",
        "\n"
      ],
      "metadata": {
        "id": "4kjMzVBnDxRE"
      },
      "id": "4kjMzVBnDxRE",
      "execution_count": null,
      "outputs": []
    },
    {
      "cell_type": "code",
      "source": [
        "# Definimos los coeficentes del polinomio P(x)=2x^4- 3x^2 + 3x - 4\n",
        "coef = [2, 0, -3, 3, -4]"
      ],
      "metadata": {
        "id": "FnF_pnelDs8p"
      },
      "id": "FnF_pnelDs8p",
      "execution_count": null,
      "outputs": []
    },
    {
      "cell_type": "code",
      "source": [
        "# Evaluamos el polinomio y su derivada en x0 = -2 usando el método de Horner\n",
        "x0 = -2\n",
        "poli, d = funcion(coef, x0)\n",
        "\n",
        "print(f\"Valor del polinomio en x0 = {x0}: {poli}\")\n",
        "print(f\"Valor de la derivada en x0 = {x0}: {d}\")\n"
      ],
      "metadata": {
        "id": "ZzhcESPlF4VJ",
        "outputId": "485f49f5-6f1e-430e-95df-ebdd684c6f02",
        "colab": {
          "base_uri": "https://localhost:8080/"
        }
      },
      "id": "ZzhcESPlF4VJ",
      "execution_count": null,
      "outputs": [
        {
          "output_type": "stream",
          "name": "stdout",
          "text": [
            "Valor del polinomio en x0 = -2: 10\n",
            "Valor de la derivada en x0 = -2: -49\n"
          ]
        }
      ]
    },
    {
      "cell_type": "code",
      "source": [
        "# Aplicamos el método de Newton\n",
        "raiz = newton(coef, x0)\n",
        "print(f\"Raíz aproximada del polinomio: {raiz}\")"
      ],
      "metadata": {
        "id": "v8qX8dYNGOaW",
        "outputId": "95c37d06-5d76-4cf2-b3bf-7e4592ca2fbd",
        "colab": {
          "base_uri": "https://localhost:8080/"
        }
      },
      "id": "v8qX8dYNGOaW",
      "execution_count": null,
      "outputs": [
        {
          "output_type": "stream",
          "name": "stdout",
          "text": [
            "Número máximo de iteraciones alcanzado\n",
            "Raíz aproximada del polinomio: -1.7959183673469388\n"
          ]
        }
      ]
    },
    {
      "cell_type": "markdown",
      "source": [
        "\n",
        "Elaborado por Yerikendy Ordaz\n"
      ],
      "metadata": {
        "id": "NlUuNBvRyaKb"
      },
      "id": "NlUuNBvRyaKb"
    }
  ],
  "metadata": {
    "kernelspec": {
      "display_name": "Python 3 (ipykernel)",
      "language": "python",
      "name": "python3"
    },
    "language_info": {
      "codemirror_mode": {
        "name": "ipython",
        "version": 3
      },
      "file_extension": ".py",
      "mimetype": "text/x-python",
      "name": "python",
      "nbconvert_exporter": "python",
      "pygments_lexer": "ipython3",
      "version": "3.7.3"
    },
    "colab": {
      "provenance": [],
      "include_colab_link": true
    }
  },
  "nbformat": 4,
  "nbformat_minor": 5
}