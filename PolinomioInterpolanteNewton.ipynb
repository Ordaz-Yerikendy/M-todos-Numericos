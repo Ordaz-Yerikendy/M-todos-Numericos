{
  "nbformat": 4,
  "nbformat_minor": 0,
  "metadata": {
    "colab": {
      "provenance": [],
      "authorship_tag": "ABX9TyMfZ/trc34zJ3ZCX4Xalhcq",
      "include_colab_link": true
    },
    "kernelspec": {
      "name": "python3",
      "display_name": "Python 3"
    },
    "language_info": {
      "name": "python"
    }
  },
  "cells": [
    {
      "cell_type": "markdown",
      "metadata": {
        "id": "view-in-github",
        "colab_type": "text"
      },
      "source": [
        "<a href=\"https://colab.research.google.com/github/Ordaz-Yerikendy/Metodos-Numericos/blob/main/PolinomioInterpolanteNewton.ipynb\" target=\"_parent\"><img src=\"https://colab.research.google.com/assets/colab-badge.svg\" alt=\"Open In Colab\"/></a>"
      ]
    },
    {
      "cell_type": "markdown",
      "source": [
        "#Polinomio interpolante de Newton"
      ],
      "metadata": {
        "id": "yUsRI1bIOb05"
      }
    },
    {
      "cell_type": "code",
      "source": [
        "import numpy as np\n",
        "import matplotlib.pyplot as plt"
      ],
      "metadata": {
        "id": "mWAu9t1cdj58"
      },
      "execution_count": 26,
      "outputs": []
    },
    {
      "cell_type": "code",
      "source": [
        "# Datos de la tabla\n",
        "x_data = np.array([0, 1, 2, 3, 4, 5])\n",
        "y_data = np.array([-5, 1, 9, 25, 55, 105])"
      ],
      "metadata": {
        "id": "87T07TGHdloc"
      },
      "execution_count": 27,
      "outputs": []
    },
    {
      "cell_type": "code",
      "source": [
        "# Función para calcular las diferencias divididas\n",
        "def diferencias_divididas(x, y):\n",
        "    n = len(y)\n",
        "    coef = np.zeros([n, n])\n",
        "    coef[:, 0] = y  # Primera columna es y\n",
        "\n",
        "    # Calcular las diferencias divididas\n",
        "    for j in range(1, n):\n",
        "        for i in range(n - j):\n",
        "            coef[i][j] = (coef[i + 1][j - 1] - coef[i][j - 1]) / (x[i + j] - x[i])\n",
        "\n",
        "    return coef[0, :]  # Retorna solo la primera fila (los coeficientes del polinomio)"
      ],
      "metadata": {
        "id": "a-t4kJ0odoH9"
      },
      "execution_count": 28,
      "outputs": []
    },
    {
      "cell_type": "code",
      "source": [
        "# Función para evaluar el polinomio de Newton en un valor dado de x\n",
        "def evaluar_polinomio(coef, x_data, x):\n",
        "    n = len(coef)\n",
        "    polinomio = coef[0]\n",
        "    for i in range(1, n):\n",
        "        termino = coef[i]\n",
        "        for j in range(i):\n",
        "            termino *= (x - x_data[j])\n",
        "        polinomio += termino\n",
        "    return polinomio\n",
        "\n",
        "# Obtener los coeficientes del polinomio interpolante\n",
        "coeficientes = diferencias_divididas(x_data, y_data)\n",
        "\n"
      ],
      "metadata": {
        "id": "Hurw0VwMc_JB"
      },
      "execution_count": 29,
      "outputs": []
    },
    {
      "cell_type": "code",
      "source": [
        "# Graficar el polinomio y los puntos de la tabla\n",
        "x_vals = np.linspace(min(x_data), max(x_data), 100)\n",
        "y_vals = [evaluar_polinomio(coeficientes, x_data, xi) for xi in x_vals]\n",
        "\n",
        "plt.title('Interpolación con Polinomio de Newton')\n",
        "plt.scatter(x_data, y_data, color='magenta', marker =\"*\")\n",
        "plt.xlabel('Eje x')\n",
        "plt.ylabel('Eje y')\n",
        "plt.legend()\n",
        "plt.grid(color=\"pink\", linestyle=\"--\")\n",
        "plt.show()\n"
      ],
      "metadata": {
        "colab": {
          "base_uri": "https://localhost:8080/",
          "height": 509
        },
        "collapsed": true,
        "id": "EHixkNgIfKdx",
        "outputId": "8d078cb6-fdf0-4962-c984-3ae1a019397c"
      },
      "execution_count": 33,
      "outputs": [
        {
          "output_type": "stream",
          "name": "stderr",
          "text": [
            "WARNING:matplotlib.legend:No artists with labels found to put in legend.  Note that artists whose label start with an underscore are ignored when legend() is called with no argument.\n"
          ]
        },
        {
          "output_type": "display_data",
          "data": {
            "text/plain": [
              "<Figure size 640x480 with 1 Axes>"
            ],
            "image/png": "[encoded data removed]"
          },
          "metadata": {}
        }
      ]
    },
    {
      "cell_type": "code",
      "source": [
        "# Evaluar el polinomio en un punto específico\n",
        "x_evaluar = 4.5\n",
        "y_evaluar = evaluar_polinomio(coeficientes, x_data, x_evaluar)\n",
        "print(f\"El valor aproximado de F({x_evaluar}) es {y_evaluar}\")"
      ],
      "metadata": {
        "colab": {
          "base_uri": "https://localhost:8080/"
        },
        "id": "bFNiWLgefSU8",
        "outputId": "fcdb1e60-6e09-42a7-8ccf-b853105733b4"
      },
      "execution_count": 31,
      "outputs": [
        {
          "output_type": "stream",
          "name": "stdout",
          "text": [
            "El valor aproximado de F(4.5) es 77.125\n"
          ]
        }
      ]
    },
    {
      "cell_type": "markdown",
      "source": [
        "Hecho por Yerikendy Ordaz\n"
      ],
      "metadata": {
        "id": "jVln2TXLhSr-"
      }
    }
  ]
}