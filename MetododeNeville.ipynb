{
  "nbformat": 4,
  "nbformat_minor": 0,
  "metadata": {
    "colab": {
      "provenance": [],
      "authorship_tag": "ABX9TyM1RSKFE459ZS+NZhEGBp/n",
      "include_colab_link": true
    },
    "kernelspec": {
      "name": "python3",
      "display_name": "Python 3"
    },
    "language_info": {
      "name": "python"
    }
  },
  "cells": [
    {
      "cell_type": "markdown",
      "metadata": {
        "id": "view-in-github",
        "colab_type": "text"
      },
      "source": [
        "<a href=\"https://colab.research.google.com/github/Ordaz-Yerikendy/Metodos-Numericos/blob/main/MetododeNeville.ipynb\" target=\"_parent\"><img src=\"https://colab.research.google.com/assets/colab-badge.svg\" alt=\"Open In Colab\"/></a>"
      ]
    },
    {
      "cell_type": "code",
      "execution_count": 25,
      "metadata": {
        "id": "KhpgYFewfnjP"
      },
      "outputs": [],
      "source": [
        "import numpy as np"
      ]
    },
    {
      "cell_type": "code",
      "source": [
        "def metodo_neville(x_dato, x, f):\n",
        "    \"\"\"\n",
        "    Se implementa el método de Neville para calcular el polinomio interpolante.\n",
        "    Args:\n",
        "        x_dato: Valor de x donde se evalua el polinomio.\n",
        "        x: Lista de nodos x0, x1, ..., xn.\n",
        "        f: Lista de valores f(x0), f(x1), ..., f(xn).\n",
        "    Returns:\n",
        "        Aproximación del polinomio P(x_dato) y la tabla.\n",
        "    \"\"\"\n",
        "    n = len(x)\n",
        "    # Creamos la tabla y copiamos los valores iniciales de f en la primera columna\n",
        "    Q = np.zeros((n, n))\n",
        "    for i in range(n):\n",
        "        Q[i, 0] = f[i]\n",
        "\n",
        "    # Aplicamos el método de Neville\n",
        "    for i in range(1, n):\n",
        "        for j in range(1, i + 1):\n",
        "            Q[i, j] = ((x_dato - x[i - j]) * Q[i, j - 1] - (x_dato - x[i]) * Q[i - 1, j - 1]) / (x[i] - x[i - j])\n",
        "\n",
        "    # El valor de P(x_dato) está en Q[n-1, n-1]\n",
        "    return Q[n-1, n-1], Q"
      ],
      "metadata": {
        "id": "VFmIGI2tqyQy"
      },
      "execution_count": 26,
      "outputs": []
    },
    {
      "cell_type": "code",
      "source": [
        "# Metémos los datos del ejemplo 2\n",
        "x = [1.0, 1.3, 1.6, 1.9, 2.2]\n",
        "f = [0.7651977, 0.6200860, 0.4554022, 0.2818186, 0.1103623]\n",
        "x_dato = 1.5\n",
        "\n",
        "# Ejecutamos el método de Neville\n",
        "resultado, tabla_Q = metodo_neville(x_dato, x, f)\n",
        "\n",
        "# Mostramos los resultados\n",
        "print(f\"El valor aproximado de f({x_dato}) es: {resultado}\")\n",
        "print(\"\\nTabla:\")\n",
        "print(tabla_Q)"
      ],
      "metadata": {
        "colab": {
          "base_uri": "https://localhost:8080/"
        },
        "id": "pthXnqwTq37i",
        "outputId": "940abbe5-042b-45b1-8e75-fba3fb86dbfe"
      },
      "execution_count": 27,
      "outputs": [
        {
          "output_type": "stream",
          "name": "stdout",
          "text": [
            "El valor aproximado de f(1.5) es: 0.5118199942386831\n",
            "\n",
            "Tabla:\n",
            "[[0.7651977  0.         0.         0.         0.        ]\n",
            " [0.620086   0.52334487 0.         0.         0.        ]\n",
            " [0.4554022  0.5102968  0.51247148 0.         0.        ]\n",
            " [0.2818186  0.5132634  0.51128567 0.51181269 0.        ]\n",
            " [0.1103623  0.510427   0.51373613 0.51183021 0.51181999]]\n"
          ]
        }
      ]
    }
  ]
}