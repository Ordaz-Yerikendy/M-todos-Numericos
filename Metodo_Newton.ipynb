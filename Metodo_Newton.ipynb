{
  "cells": [
    {
      "cell_type": "markdown",
      "id": "3154e14b",
      "metadata": {
        "id": "3154e14b"
      },
      "source": [
        "# Método de Newton\n",
        "\n",
        "\n",
        "\n"
      ]
    },
    {
      "cell_type": "code",
      "execution_count": 24,
      "id": "9d5e2287",
      "metadata": {
        "id": "9d5e2287"
      },
      "outputs": [],
      "source": [
        "from math import *\n",
        "import numpy as np\n",
        "import matplotlib . pyplot as plt"
      ]
    },
    {
      "cell_type": "code",
      "execution_count": 25,
      "id": "db980446",
      "metadata": {
        "id": "db980446"
      },
      "outputs": [],
      "source": [
        "def funcion1(x):\n",
        "    return x**3 - x - 1  #Ingresamos la función original\n",
        "def funcion1d(x):\n",
        "    return 3*x**2 - 1  #Ingresamos la derivada de la función original\n",
        "def formula(x):\n",
        "    return x - (funcion1(x)/funcion1d(x))"
      ]
    },
    {
      "cell_type": "code",
      "execution_count": 26,
      "id": "679a51af",
      "metadata": {
        "id": "679a51af"
      },
      "outputs": [],
      "source": [
        "# Ingreso datos de entrada para los diferentes métodos a trabajar\n",
        "p = 1 # Aproximación dada\n",
        "\n",
        "# guarda valores iniciales\n",
        "p0 = p\n",
        "\n",
        "#guarda valores iniciales del error y del número de iteraciones\n",
        "tol = 0.01 #float(input(\"Ingrese el valor de la tolerancia: \"))\n",
        "nmax = 100 #float(input(\"Ingrese el número máximo de iteraciones: \"))\n",
        "error = 100\n",
        "niter = 0"
      ]
    },
    {
      "cell_type": "code",
      "execution_count": 27,
      "id": "6b4c08a0",
      "metadata": {
        "id": "6b4c08a0",
        "outputId": "fe436712-915d-4f84-af4c-d2d0ebfbe2b5",
        "colab": {
          "base_uri": "https://localhost:8080/"
        }
      },
      "outputs": [
        {
          "output_type": "stream",
          "name": "stdout",
          "text": [
            "# iter\t\t p \t\t f(p) \t\t d(p) \t\t q  \t\t error\n",
            "0 \t\t 1.0000 \t -1.0000 \t 2.0000 \t 1.5000  \t 100.0000\n",
            "1 \t\t 1.500000 \t 0.875000 \t 5.750000 \t 1.347826  \t 0.500000\n",
            "2 \t\t 1.347826 \t 0.100682 \t 4.449905 \t 1.325200  \t 0.152174\n",
            "3 \t\t 1.325200 \t 0.002058 \t 4.268468 \t 1.324718  \t 0.022626\n",
            "4 \t\t 1.324718 \t 0.000001 \t 4.264635 \t 1.324718  \t 0.000482\n",
            "La raíz de la función dada en el intervalo [1.0000 es 1.3247182\n"
          ]
        }
      ],
      "source": [
        "# Método de Newton\n",
        "\n",
        "# Tomamos a m como la aproximación para comenzar a evaluar\n",
        "m = p0\n",
        "\n",
        "#Evaluación de la función original y la derivada en el punto m, tambien agregamos la formula para iterar\n",
        "fm = funcion1(m)\n",
        "dm = funcion1d(m)\n",
        "q = m - (fm/dm)\n",
        "\n",
        "print(\"# iter\\t\\t p \\t\\t f(p) \\t\\t d(p) \\t\\t q  \\t\\t error\")\n",
        "print(\"{0} \\t\\t {1:6.4f} \\t {2:6.4f} \\t {3:6.4f} \\t {4:6.4f}  \\t {5:6.4f}\".format(niter, m, fm, dm, q, error ))\n",
        "\n",
        "# ciclo iterativo\n",
        "while error > tol and niter < nmax:\n",
        "    m = m - (funcion1(m)/funcion1d(m))\n",
        "    fm = funcion1(m)\n",
        "    dm = funcion1d(m)\n",
        "    q = m - (fm/dm)\n",
        "    error = abs(m - p)\n",
        "    niter += 1\n",
        "    print(\"{0} \\t\\t {1:6.6f} \\t {2:6.6f} \\t {3:6.6f} \\t {4:6.6f}  \\t {5:6.6f}\".format(niter, m, fm, dm, q, error))\n",
        "    p=m\n",
        "print(\"La raíz de la función dada en el intervalo [{0:6.4f} es {1:6.7f}\".format(p0, m))"
      ]
    },
    {
      "cell_type": "markdown",
      "source": [
        "\n",
        "Elaborado por Yerikendy Ordaz\n"
      ],
      "metadata": {
        "id": "NlUuNBvRyaKb"
      },
      "id": "NlUuNBvRyaKb"
    }
  ],
  "metadata": {
    "kernelspec": {
      "display_name": "Python 3 (ipykernel)",
      "language": "python",
      "name": "python3"
    },
    "language_info": {
      "codemirror_mode": {
        "name": "ipython",
        "version": 3
      },
      "file_extension": ".py",
      "mimetype": "text/x-python",
      "name": "python",
      "nbconvert_exporter": "python",
      "pygments_lexer": "ipython3",
      "version": "3.7.3"
    },
    "colab": {
      "provenance": []
    }
  },
  "nbformat": 4,
  "nbformat_minor": 5
}